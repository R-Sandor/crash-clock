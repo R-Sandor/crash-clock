{
  "nbformat": 4,
  "nbformat_minor": 0,
  "metadata": {
    "colab": {
      "provenance": [],
      "include_colab_link": true
    },
    "kernelspec": {
      "name": "python3",
      "display_name": "Python 3"
    },
    "language_info": {
      "name": "python"
    }
  },
  "cells": [
    {
      "cell_type": "markdown",
      "metadata": {
        "id": "view-in-github",
        "colab_type": "text"
      },
      "source": [
        "<a href=\"https://colab.research.google.com/github/R-Sandor/crash-clock/blob/main/Abstract_Project.ipynb\" target=\"_parent\"><img src=\"https://colab.research.google.com/assets/colab-badge.svg\" alt=\"Open In Colab\"/></a>"
      ]
    },
    {
      "cell_type": "markdown",
      "source": [
        "# Abstract\n",
        "## Members:\n",
        "\n",
        "### Kayla Preston\n",
        "- Email: kpres007@odu.edu\n",
        "- Web portfolio:\n",
        "\n",
        "### Raphael J. Sandor\n",
        "- Email: rsand006@odu.edu\n",
        "- Web portfolio: [About me](https://r-sandor.github.io/)\n",
        "\n",
        "### Member 3\n",
        "\n",
        "## Raw Datasets\n",
        "- [Tempe, AZ](https://catalog.data.gov/dataset/1-08-crash-data-report-detail-498c3)\n",
        "- [Town of Carry](https://catalog.data.gov/dataset/crash-data)"
      ],
      "metadata": {
        "id": "CVSscgDbWz0Z"
      }
    }
  ]
}