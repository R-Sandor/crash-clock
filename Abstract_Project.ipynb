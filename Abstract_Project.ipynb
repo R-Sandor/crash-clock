{
  "nbformat": 4,
  "nbformat_minor": 0,
  "metadata": {
    "colab": {
      "provenance": [],
      "include_colab_link": true
    },
    "kernelspec": {
      "name": "python3",
      "display_name": "Python 3"
    },
    "language_info": {
      "name": "python"
    }
  },
  "cells": [
    {
      "cell_type": "markdown",
      "metadata": {
        "id": "view-in-github",
        "colab_type": "text"
      },
      "source": [
        "<a href=\"https://colab.research.google.com/github/R-Sandor/crash-clock/blob/main/Abstract_Project.ipynb\" target=\"_parent\"><img src=\"https://colab.research.google.com/assets/colab-badge.svg\" alt=\"Open In Colab\"/></a>"
      ]
    },
    {
      "cell_type": "markdown",
      "source": [
        "# Abstract\n",
        "\n",
        "\n"
      ],
      "metadata": {
        "id": "CVSscgDbWz0Z"
      }
    },
    {
      "cell_type": "markdown",
      "source": [
        "## Members:\n",
        "\n",
        "Kayla Preston\n",
        "Email: kpres007@odu.edu;\n",
        "Web portfolio:\n",
        "\n",
        "Raphael J. Sandor\n",
        "Email: rsand006@odu.edu;\n",
        "Web portfolio: https://r-sandor.github.io/\n",
        "\n",
        "Member 3"
      ],
      "metadata": {
        "id": "-TwWDuE3S_iQ"
      }
    },
    {
      "cell_type": "markdown",
      "source": [
        "## Raw Data Sources"
      ],
      "metadata": {
        "id": "Ygkcx-8aafSz"
      }
    },
    {
      "cell_type": "markdown",
      "source": [
        "### Load Data"
      ],
      "metadata": {
        "id": "lXG36s9kZ3dD"
      }
    },
    {
      "cell_type": "code",
      "source": [
        "from google.colab import drive\n",
        "drive.mount('/content/drive')"
      ],
      "metadata": {
        "colab": {
          "base_uri": "https://localhost:8080/"
        },
        "id": "DNtLf2FwFB0A",
        "outputId": "31572547-7c7b-4e85-ebc6-2b25c99d504b"
      },
      "execution_count": 27,
      "outputs": [
        {
          "output_type": "stream",
          "name": "stdout",
          "text": [
            "Drive already mounted at /content/drive; to attempt to forcibly remount, call drive.mount(\"/content/drive\", force_remount=True).\n"
          ]
        }
      ]
    },
    {
      "cell_type": "code",
      "source": [
        "import pandas as pd\n",
        "from IPython.display import display, HTML"
      ],
      "metadata": {
        "id": "UeiiNwLAaQ1z"
      },
      "execution_count": 28,
      "outputs": []
    },
    {
      "cell_type": "code",
      "source": [
        "tempe_df=pd.read_csv('/content/drive/MyDrive/cs620-data/1.08_Crash_Data_Report_(detail)-2.csv')"
      ],
      "metadata": {
        "id": "yUllYn97Fhux"
      },
      "execution_count": 29,
      "outputs": []
    },
    {
      "cell_type": "code",
      "source": [
        "carry_df=pd.read_json('/content/drive/MyDrive/cs620-data/cpd-crash-incidents.json')"
      ],
      "metadata": {
        "id": "6LW9AuxeFTdy"
      },
      "execution_count": 30,
      "outputs": []
    },
    {
      "cell_type": "markdown",
      "source": [
        "\n",
        "\n",
        "---\n",
        "\n"
      ],
      "metadata": {
        "id": "kO4lkD7lUaOu"
      }
    },
    {
      "cell_type": "markdown",
      "source": [
        "### Primary Data Source\n",
        "- [Tempe, AZ](https://catalog.data.gov/dataset/1-08-crash-data-report-detail-498c3):\n",
        "This dataset presents the road collisions in Tempe Arrizona. This is the primary dataset that will be used to analyze daylight savings impact as the state does not observe nor adjust the UTC offset for daylight saving. The data is recorded in Arizona local time (UTC-7) which is seven hours behind UTC. The data consists of 51,304 records, with record collection starting 2012 to 2024.\n"
      ],
      "metadata": {
        "id": "XYCsniFGa4v4"
      }
    },
    {
      "cell_type": "markdown",
      "source": [
        "#### Primary - Tempe, AZ Data Sample"
      ],
      "metadata": {
        "id": "l20uRg8LYntF"
      }
    },
    {
      "cell_type": "code",
      "source": [
        "display(HTML(tempe_df.head(2).to_html()))"
      ],
      "metadata": {
        "id": "CItNlFbcPK1e",
        "colab": {
          "base_uri": "https://localhost:8080/",
          "height": 184
        },
        "outputId": "e9afc1e6-cbcb-4400-bb59-2e76f31b441d"
      },
      "execution_count": 31,
      "outputs": [
        {
          "output_type": "display_data",
          "data": {
            "text/plain": [
              "<IPython.core.display.HTML object>"
            ],
            "text/html": [
              "<table border=\"1\" class=\"dataframe\">\n",
              "  <thead>\n",
              "    <tr style=\"text-align: right;\">\n",
              "      <th></th>\n",
              "      <th>X</th>\n",
              "      <th>Y</th>\n",
              "      <th>OBJECTID</th>\n",
              "      <th>Incidentid</th>\n",
              "      <th>DateTime</th>\n",
              "      <th>Year</th>\n",
              "      <th>StreetName</th>\n",
              "      <th>CrossStreet</th>\n",
              "      <th>Distance</th>\n",
              "      <th>JunctionRelation</th>\n",
              "      <th>Totalinjuries</th>\n",
              "      <th>Totalfatalities</th>\n",
              "      <th>Injuryseverity</th>\n",
              "      <th>Collisionmanner</th>\n",
              "      <th>Lightcondition</th>\n",
              "      <th>Weather</th>\n",
              "      <th>SurfaceCondition</th>\n",
              "      <th>Unittype_One</th>\n",
              "      <th>Age_Drv1</th>\n",
              "      <th>Gender_Drv1</th>\n",
              "      <th>Traveldirection_One</th>\n",
              "      <th>Unitaction_One</th>\n",
              "      <th>Violation1_Drv1</th>\n",
              "      <th>AlcoholUse_Drv1</th>\n",
              "      <th>DrugUse_Drv1</th>\n",
              "      <th>Unittype_Two</th>\n",
              "      <th>Age_Drv2</th>\n",
              "      <th>Gender_Drv2</th>\n",
              "      <th>Traveldirection_Two</th>\n",
              "      <th>Unitaction_Two</th>\n",
              "      <th>Violation1_Drv2</th>\n",
              "      <th>AlcoholUse_Drv2</th>\n",
              "      <th>DrugUse_Drv2</th>\n",
              "      <th>Latitude</th>\n",
              "      <th>Longitude</th>\n",
              "    </tr>\n",
              "  </thead>\n",
              "  <tbody>\n",
              "    <tr>\n",
              "      <th>0</th>\n",
              "      <td>-111.95221</td>\n",
              "      <td>33.42191</td>\n",
              "      <td>1</td>\n",
              "      <td>2598369.0</td>\n",
              "      <td>2012/01/01 07:25:00+00</td>\n",
              "      <td>2012.0</td>\n",
              "      <td>University Dr</td>\n",
              "      <td>Hardy Dr</td>\n",
              "      <td>0.00</td>\n",
              "      <td>Intersection Non Interchange</td>\n",
              "      <td>6.0</td>\n",
              "      <td>0.0</td>\n",
              "      <td>Non Incapacitating Injury</td>\n",
              "      <td>ANGLE (Front To Side)(Other Than Left Turn)</td>\n",
              "      <td>Dark Lighted</td>\n",
              "      <td>Clear</td>\n",
              "      <td>Dry</td>\n",
              "      <td>Driver</td>\n",
              "      <td>23.0</td>\n",
              "      <td>Female</td>\n",
              "      <td>West</td>\n",
              "      <td>Making Left Turn</td>\n",
              "      <td>Inattention Distraction</td>\n",
              "      <td>Alcohol</td>\n",
              "      <td>No Apparent Influence</td>\n",
              "      <td>Driver</td>\n",
              "      <td>20.0</td>\n",
              "      <td>Female</td>\n",
              "      <td>East</td>\n",
              "      <td>Going Straight Ahead</td>\n",
              "      <td>No Improper Action</td>\n",
              "      <td>No Apparent Influence</td>\n",
              "      <td>No Apparent Influence</td>\n",
              "      <td>33.42191</td>\n",
              "      <td>-111.95221</td>\n",
              "    </tr>\n",
              "    <tr>\n",
              "      <th>1</th>\n",
              "      <td>-111.93769</td>\n",
              "      <td>33.42319</td>\n",
              "      <td>2</td>\n",
              "      <td>2593420.0</td>\n",
              "      <td>2012/01/01 11:45:00+00</td>\n",
              "      <td>2012.0</td>\n",
              "      <td>7th St</td>\n",
              "      <td>Myrtle Ave</td>\n",
              "      <td>139.92</td>\n",
              "      <td>Not Junction Related</td>\n",
              "      <td>0.0</td>\n",
              "      <td>0.0</td>\n",
              "      <td>No Injury</td>\n",
              "      <td>Single Vehicle</td>\n",
              "      <td>Dark Lighted</td>\n",
              "      <td>Clear</td>\n",
              "      <td>Dry</td>\n",
              "      <td>Driver</td>\n",
              "      <td>255.0</td>\n",
              "      <td>NaN</td>\n",
              "      <td>East</td>\n",
              "      <td>Backing</td>\n",
              "      <td>Unknown</td>\n",
              "      <td>No Apparent Influence</td>\n",
              "      <td>No Apparent Influence</td>\n",
              "      <td>NaN</td>\n",
              "      <td>NaN</td>\n",
              "      <td>NaN</td>\n",
              "      <td>NaN</td>\n",
              "      <td>NaN</td>\n",
              "      <td>NaN</td>\n",
              "      <td>NaN</td>\n",
              "      <td>NaN</td>\n",
              "      <td>33.42319</td>\n",
              "      <td>-111.93769</td>\n",
              "    </tr>\n",
              "  </tbody>\n",
              "</table>"
            ]
          },
          "metadata": {}
        }
      ]
    },
    {
      "cell_type": "markdown",
      "source": [
        "### Secondary Data Source\n",
        "- [Carry, NC](https://catalog.data.gov/dataset/crash-data):\n",
        "The town of Carry is located in North Carolina and participates in daylight savings time and was selected do to its approximate size to Tempe and participation Daylight Savings Time.\n",
        "The raw dataset includes collisions from 2025 to 2020, consisting of over 20,500 records."
      ],
      "metadata": {
        "id": "GD61vAddTfNF"
      }
    },
    {
      "cell_type": "markdown",
      "source": [
        "#### Carry Data Sample"
      ],
      "metadata": {
        "id": "9aWcb3erY4zz"
      }
    },
    {
      "cell_type": "code",
      "source": [
        "display(HTML(carry_df.head(2).to_html()))"
      ],
      "metadata": {
        "colab": {
          "base_uri": "https://localhost:8080/",
          "height": 236
        },
        "id": "Nkt1I0BdXjBk",
        "outputId": "dffb0429-b428-44a9-93dc-ef308593c19c"
      },
      "execution_count": 32,
      "outputs": [
        {
          "output_type": "display_data",
          "data": {
            "text/plain": [
              "<IPython.core.display.HTML object>"
            ],
            "text/html": [
              "<table border=\"1\" class=\"dataframe\">\n",
              "  <thead>\n",
              "    <tr style=\"text-align: right;\">\n",
              "      <th></th>\n",
              "      <th>tamainid</th>\n",
              "      <th>location_description</th>\n",
              "      <th>rdfeature</th>\n",
              "      <th>rdcharacter</th>\n",
              "      <th>rdclass</th>\n",
              "      <th>rdconfigur</th>\n",
              "      <th>rdsurface</th>\n",
              "      <th>rdcondition</th>\n",
              "      <th>lightcond</th>\n",
              "      <th>weather</th>\n",
              "      <th>trafcontrl</th>\n",
              "      <th>lat</th>\n",
              "      <th>lon</th>\n",
              "      <th>lon2</th>\n",
              "      <th>lat2</th>\n",
              "      <th>tract</th>\n",
              "      <th>zone</th>\n",
              "      <th>fatality</th>\n",
              "      <th>possblinj</th>\n",
              "      <th>numpassengers</th>\n",
              "      <th>numpedestrians</th>\n",
              "      <th>contrcir1_desc</th>\n",
              "      <th>contrcir2_desc</th>\n",
              "      <th>contrcir3_desc</th>\n",
              "      <th>contrcir4_desc</th>\n",
              "      <th>vehicle1</th>\n",
              "      <th>vehicle2</th>\n",
              "      <th>vehicle3</th>\n",
              "      <th>vehicle4</th>\n",
              "      <th>vehicle5</th>\n",
              "      <th>workarea</th>\n",
              "      <th>records</th>\n",
              "      <th>ta_date</th>\n",
              "      <th>ta_time</th>\n",
              "      <th>crash_date</th>\n",
              "      <th>geo_location</th>\n",
              "      <th>year</th>\n",
              "      <th>fatalities</th>\n",
              "      <th>injuries</th>\n",
              "      <th>month</th>\n",
              "      <th>contributing_factor</th>\n",
              "      <th>vehicle_type</th>\n",
              "    </tr>\n",
              "  </thead>\n",
              "  <tbody>\n",
              "    <tr>\n",
              "      <th>0</th>\n",
              "      <td>44273</td>\n",
              "      <td>0 FEET FROM SR 1313 (WALNUT ST)</td>\n",
              "      <td>FOUR-WAY INTERSECTION</td>\n",
              "      <td>[STRAIGHT, LEVEL]</td>\n",
              "      <td>[STATE SECONDARY ROUTE]</td>\n",
              "      <td>[TWO-WAY, NOT DIVIDED]</td>\n",
              "      <td>SMOOTH ASPHALT</td>\n",
              "      <td>DRY</td>\n",
              "      <td>DAYLIGHT</td>\n",
              "      <td>CLEAR</td>\n",
              "      <td>STOP AND GO SIGNAL</td>\n",
              "      <td>NaN</td>\n",
              "      <td>NaN</td>\n",
              "      <td>-78.7673</td>\n",
              "      <td>35.7754</td>\n",
              "      <td>None</td>\n",
              "      <td>None</td>\n",
              "      <td>0</td>\n",
              "      <td>0</td>\n",
              "      <td>2.0</td>\n",
              "      <td>NaN</td>\n",
              "      <td>NONE</td>\n",
              "      <td>None</td>\n",
              "      <td>NONE</td>\n",
              "      <td>None</td>\n",
              "      <td>PASSENGER CAR</td>\n",
              "      <td>PASSENGER CAR</td>\n",
              "      <td>None</td>\n",
              "      <td>None</td>\n",
              "      <td>None</td>\n",
              "      <td>NO</td>\n",
              "      <td>1003</td>\n",
              "      <td>2020-03-19</td>\n",
              "      <td>2025-02-01 08:38:12</td>\n",
              "      <td>2020-03-19T12:38:12+00:00</td>\n",
              "      <td>None</td>\n",
              "      <td>2020</td>\n",
              "      <td>No</td>\n",
              "      <td>No</td>\n",
              "      <td>3</td>\n",
              "      <td>[NONE, NONE]</td>\n",
              "      <td>[PASSENGER CAR, PASSENGER CAR]</td>\n",
              "    </tr>\n",
              "    <tr>\n",
              "      <th>1</th>\n",
              "      <td>44282</td>\n",
              "      <td>0 FEET FROM S.R. 1349 (DILLARD DR)</td>\n",
              "      <td>FOUR-WAY INTERSECTION</td>\n",
              "      <td>[STRAIGHT, LEVEL]</td>\n",
              "      <td>[STATE SECONDARY ROUTE]</td>\n",
              "      <td>[TWO-WAY, DIVIDED, UNPROTECTED MEDIAN]</td>\n",
              "      <td>SMOOTH ASPHALT</td>\n",
              "      <td>WET</td>\n",
              "      <td>DARK - LIGHTED ROADWAY</td>\n",
              "      <td>RAIN</td>\n",
              "      <td>STOP AND GO SIGNAL</td>\n",
              "      <td>NaN</td>\n",
              "      <td>NaN</td>\n",
              "      <td>-78.7411</td>\n",
              "      <td>35.7533</td>\n",
              "      <td>None</td>\n",
              "      <td>None</td>\n",
              "      <td>0</td>\n",
              "      <td>1</td>\n",
              "      <td>NaN</td>\n",
              "      <td>NaN</td>\n",
              "      <td>NONE</td>\n",
              "      <td>None</td>\n",
              "      <td>NONE</td>\n",
              "      <td>None</td>\n",
              "      <td>PASSENGER CAR</td>\n",
              "      <td>PASSENGER CAR</td>\n",
              "      <td>None</td>\n",
              "      <td>None</td>\n",
              "      <td>None</td>\n",
              "      <td>NO</td>\n",
              "      <td>1012</td>\n",
              "      <td>2020-03-21</td>\n",
              "      <td>2025-02-01 21:17:58</td>\n",
              "      <td>2020-03-22T01:17:58+00:00</td>\n",
              "      <td>None</td>\n",
              "      <td>2020</td>\n",
              "      <td>No</td>\n",
              "      <td>Yes</td>\n",
              "      <td>3</td>\n",
              "      <td>[NONE, NONE]</td>\n",
              "      <td>[PASSENGER CAR, PASSENGER CAR]</td>\n",
              "    </tr>\n",
              "  </tbody>\n",
              "</table>"
            ]
          },
          "metadata": {}
        }
      ]
    },
    {
      "cell_type": "markdown",
      "source": [
        "## Goal"
      ],
      "metadata": {
        "id": "2UOksU_hYeqq"
      }
    },
    {
      "cell_type": "markdown",
      "source": [
        "The goal of this project is to visulize the impact of daylight savings on vehicular collisions. Recently in the United States there has been discussion at a national level adopting a permanent daylight savings time. Proponents of the legislative change claim it would decrease the number of vehicular collisions. This project sets on to analyzing and modeling the impact daylight to time of day on collisions."
      ],
      "metadata": {
        "id": "pZqOVzNZVxhp"
      }
    },
    {
      "cell_type": "code",
      "source": [],
      "metadata": {
        "id": "8Z43v1d-XOmO"
      },
      "execution_count": null,
      "outputs": []
    }
  ]
}